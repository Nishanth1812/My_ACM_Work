{
 "cells": [
  {
   "cell_type": "markdown",
   "metadata": {},
   "source": [
    "**1.) Importinng the  required modules**"
   ]
  },
  {
   "cell_type": "code",
   "execution_count": 1,
   "metadata": {},
   "outputs": [],
   "source": [
    "import torch\n",
    "import torch.nn as nn\n",
    "import torch.optim as optim\n",
    "import torchvision.transforms as transforms\n",
    "import torchvision.datasets as datasets\n",
    "import torchvision.models as models\n",
    "from torch.utils.data import DataLoader\n"
   ]
  },
  {
   "cell_type": "markdown",
   "metadata": {},
   "source": [
    "**2.) Importing the pre-trained vgg16 model**"
   ]
  },
  {
   "cell_type": "code",
   "execution_count": 2,
   "metadata": {},
   "outputs": [
    {
     "name": "stderr",
     "output_type": "stream",
     "text": [
      "c:\\Users\\Devab\\AppData\\Local\\Programs\\Python\\Python312\\Lib\\site-packages\\torchvision\\models\\_utils.py:208: UserWarning: The parameter 'pretrained' is deprecated since 0.13 and may be removed in the future, please use 'weights' instead.\n",
      "  warnings.warn(\n",
      "c:\\Users\\Devab\\AppData\\Local\\Programs\\Python\\Python312\\Lib\\site-packages\\torchvision\\models\\_utils.py:223: UserWarning: Arguments other than a weight enum or `None` for 'weights' are deprecated since 0.13 and may be removed in the future. The current behavior is equivalent to passing `weights=VGG16_Weights.IMAGENET1K_V1`. You can also use `weights=VGG16_Weights.DEFAULT` to get the most up-to-date weights.\n",
      "  warnings.warn(msg)\n"
     ]
    }
   ],
   "source": [
    "vgg16 = models.vgg16(pretrained=True)"
   ]
  },
  {
   "cell_type": "markdown",
   "metadata": {},
   "source": [
    "**3.) Defining the transforms to prepare the dataset for model training**"
   ]
  },
  {
   "cell_type": "code",
   "execution_count": 3,
   "metadata": {},
   "outputs": [],
   "source": [
    "# Defining the transformations that we need to do to the data present in the dataset \n",
    "\n",
    "transform=transforms.Compose([\n",
    "    transforms.Resize((224, 224)),  # Resize to VGG16 input size\n",
    "    transforms.RandomHorizontalFlip(),  # Data Augmentation\n",
    "    transforms.ToTensor(),  # Convert to Tensor\n",
    "    transforms.Normalize(mean=[0.485, 0.456, 0.406], std=[0.229, 0.224, 0.225])])  # ImageNet normalization"
   ]
  },
  {
   "cell_type": "markdown",
   "metadata": {},
   "source": [
    "**4.) Importing the cifar-100 dataset**"
   ]
  },
  {
   "cell_type": "code",
   "execution_count": 4,
   "metadata": {},
   "outputs": [
    {
     "name": "stdout",
     "output_type": "stream",
     "text": [
      "Files already downloaded and verified\n",
      "Files already downloaded and verified\n"
     ]
    }
   ],
   "source": [
    "train_data=datasets.CIFAR100(root=\"./data\",train=True,transform=transform,download=True)\n",
    "test_data=datasets.CIFAR100(root=\"./data\",train=False,transform=transform,download=True)"
   ]
  },
  {
   "cell_type": "markdown",
   "metadata": {},
   "source": [
    "**5.) Creating dataloaders to efficiently load the train and test data into the model**"
   ]
  },
  {
   "cell_type": "code",
   "execution_count": 5,
   "metadata": {},
   "outputs": [],
   "source": [
    "trainloader=DataLoader(train_data,batch_size=32,shuffle=True,num_workers=2)\n",
    "testloader=DataLoader(test_data,batch_size=32,shuffle=False,num_workers=2)"
   ]
  },
  {
   "cell_type": "markdown",
   "metadata": {},
   "source": [
    "**6.) Freezing all the convolutional layers (so that we don't alter the core structure of the pre trained model)**"
   ]
  },
  {
   "cell_type": "code",
   "execution_count": 6,
   "metadata": {},
   "outputs": [],
   "source": [
    "for param in vgg16.features.parameters():\n",
    "    param.requires_grad = False"
   ]
  },
  {
   "cell_type": "markdown",
   "metadata": {},
   "source": [
    "**7.) Modifying the vgg16 model to use with cifar100 dataset**"
   ]
  },
  {
   "cell_type": "code",
   "execution_count": 7,
   "metadata": {},
   "outputs": [],
   "source": [
    "classifier= nn.Sequential(\n",
    "\n",
    "nn.Linear(25088,4096),\n",
    "nn.ReLU(),\n",
    "nn.Dropout(0.5), #Dropout layers are used to prevent overfitting the model \n",
    "nn.Linear(4096, 1024),\n",
    "nn.ReLU(),\n",
    "nn.Dropout(0.5),\n",
    "nn.Linear(1024, 100)\n",
    "\n",
    ")"
   ]
  },
  {
   "cell_type": "markdown",
   "metadata": {},
   "source": [
    "**8.) Definign the loss function and the optimiser**"
   ]
  },
  {
   "cell_type": "code",
   "execution_count": 8,
   "metadata": {},
   "outputs": [],
   "source": [
    "crit=nn.CrossEntropyLoss() \n",
    "\n",
    "optimiser=optim.Adam(vgg16.classifier.parameters(), lr=0.001)"
   ]
  },
  {
   "cell_type": "code",
   "execution_count": null,
   "metadata": {},
   "outputs": [],
   "source": [
    "epochs = 10  \n",
    "losses = []\n",
    "\n",
    "for epoch in range(epochs):\n",
    "    vgg16.train()  \n",
    "    running_loss = 0.0\n",
    "    correct = 0\n",
    "    total = 0\n",
    "\n",
    "    for images, labels in trainloader:  \n",
    "\n",
    "        optimiser.zero_grad()  \n",
    "        outputs = vgg16(images)  \n",
    "        loss = crit(outputs, labels)  \n",
    "\n",
    "        losses.append(loss.item())  \n",
    "\n",
    "        loss.backward()  \n",
    "        optimiser.step()  \n",
    "\n",
    "        running_loss += loss.item()\n",
    "        _, predicted = outputs.max(1)  \n",
    "        correct += predicted.eq(labels).sum().item()  \n",
    "        total += labels.size(0)  \n",
    "\n",
    "    train_acc = 100 * correct / total  \n",
    "\n",
    "    if epoch % 10 == 0:  \n",
    "        print(f'Epoch: {epoch}, Loss: {running_loss / len(trainloader):.4f}, Accuracy: {train_acc:.2f}%')\n"
   ]
  },
  {
   "cell_type": "code",
   "execution_count": null,
   "metadata": {},
   "outputs": [],
   "source": []
  }
 ],
 "metadata": {
  "kernelspec": {
   "display_name": "Python 3",
   "language": "python",
   "name": "python3"
  },
  "language_info": {
   "codemirror_mode": {
    "name": "ipython",
    "version": 3
   },
   "file_extension": ".py",
   "mimetype": "text/x-python",
   "name": "python",
   "nbconvert_exporter": "python",
   "pygments_lexer": "ipython3",
   "version": "3.12.5"
  }
 },
 "nbformat": 4,
 "nbformat_minor": 2
}
